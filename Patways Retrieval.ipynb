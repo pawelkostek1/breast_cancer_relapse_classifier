{
 "cells": [
  {
   "cell_type": "code",
   "execution_count": 8,
   "metadata": {},
   "outputs": [],
   "source": [
    "#Load necessary libraries\n",
    "from bioservices.kegg import KEGG\n",
    "import pandas as pd\n",
    "import progressbar\n",
    "k = KEGG()"
   ]
  },
  {
   "cell_type": "code",
   "execution_count": 9,
   "metadata": {},
   "outputs": [],
   "source": [
    "#Load the conversion table between affymetrix and common gene names\n",
    "conversion_table = pd.read_csv('datasets/conversion_table.txt', delimiter='\\t')\n"
   ]
  },
  {
   "cell_type": "code",
   "execution_count": null,
   "metadata": {},
   "outputs": [
    {
     "name": "stderr",
     "output_type": "stream",
     "text": [
      "[=======================                                                 ]  32%\r"
     ]
    }
   ],
   "source": [
    "#Here, we create a concatination of all the pathways for all the genes in the dataset\n",
    "file = open(\"pathways.txt\", \"a\")\n",
    "pathway = {}\n",
    "bar = progressbar.ProgressBar(maxval=conversion_table['gene_name'].size, widgets=[progressbar.Bar('=', '[', ']'), ' ', progressbar.Percentage()])\n",
    "bar.start()\n",
    "i=0\n",
    "for gene in conversion_table['gene_name']:\n",
    "    temp_pathway = k.get_pathway_by_gene(gene, \"hsa\") # \"hsa\" assumes that all the genes corresponds to homo sapiens \n",
    "    if temp_pathway != None:\n",
    "        for key in temp_pathway.keys():\n",
    "            if key not in pathway.keys():\n",
    "                file.write(str(i) + \"\\t\" + str(key) +\"\\t\"+ str(temp_pathway[key]))\n",
    "    i = i+1\n",
    "    bar.update(i)\n",
    "bar.finish()\n",
    "file.close() "
   ]
  },
  {
   "cell_type": "code",
   "execution_count": null,
   "metadata": {},
   "outputs": [],
   "source": []
  }
 ],
 "metadata": {
  "kernelspec": {
   "display_name": "Python 3",
   "language": "python",
   "name": "python3"
  },
  "language_info": {
   "codemirror_mode": {
    "name": "ipython",
    "version": 3
   },
   "file_extension": ".py",
   "mimetype": "text/x-python",
   "name": "python",
   "nbconvert_exporter": "python",
   "pygments_lexer": "ipython3",
   "version": "3.6.5"
  }
 },
 "nbformat": 4,
 "nbformat_minor": 2
}
