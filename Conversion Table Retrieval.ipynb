{
 "cells": [
  {
   "cell_type": "code",
   "execution_count": 15,
   "metadata": {},
   "outputs": [],
   "source": [
    "import urllib.request\n",
    "import progressbar\n",
    "import json\n",
    "import pandas as pd"
   ]
  },
  {
   "cell_type": "code",
   "execution_count": 16,
   "metadata": {},
   "outputs": [],
   "source": [
    "dataset = pd.read_csv('breast_cancer_dataset.txt', delimiter='\\t')"
   ]
  },
  {
   "cell_type": "code",
   "execution_count": null,
   "metadata": {
    "scrolled": true
   },
   "outputs": [
    {
     "name": "stderr",
     "output_type": "stream",
     "text": [
      "[==================================================                      ]  70%\r"
     ]
    }
   ],
   "source": [
    "affym_gene_conversion_table = {}\n",
    "file = open(\"conversion_table.txt\", \"w+\")\n",
    "bar = progressbar.ProgressBar(maxval=dataset.index.size, widgets=[progressbar.Bar('=', '[', ']'), ' ', progressbar.Percentage()])\n",
    "bar.start()\n",
    "i=0\n",
    "for index in dataset.index:\n",
    "    url = 'http://mygene.info/v3/query?q=reporter:'+str(index)\n",
    "    response = urllib.request.urlopen(url).read()\n",
    "    if 'hits' in json.loads(response):\n",
    "        if len(json.loads(response)['hits']) != 0:\n",
    "            symbol = json.loads(response)['hits'][0]['symbol']\n",
    "        else:\n",
    "            symbol = \"-\"\n",
    "    else:\n",
    "        symbol = \"-\"\n",
    "    affym_gene_conversion_table[index] = symbol\n",
    "    #print(str(index)+\": \"+str(symbol))\n",
    "    file.write(str(i) +\"\\t\"+ str(index)+\"\\t\"+str(symbol)+\"\\n\")\n",
    "    bar.update(i)\n",
    "    i=i+1\n",
    "bar.finish()\n",
    "file.close()"
   ]
  },
  {
   "cell_type": "code",
   "execution_count": null,
   "metadata": {},
   "outputs": [],
   "source": []
  }
 ],
 "metadata": {
  "kernelspec": {
   "display_name": "Python 3",
   "language": "python",
   "name": "python3"
  },
  "language_info": {
   "codemirror_mode": {
    "name": "ipython",
    "version": 3
   },
   "file_extension": ".py",
   "mimetype": "text/x-python",
   "name": "python",
   "nbconvert_exporter": "python",
   "pygments_lexer": "ipython3",
   "version": "3.6.5"
  }
 },
 "nbformat": 4,
 "nbformat_minor": 2
}
